{
 "cells": [
  {
   "cell_type": "code",
   "execution_count": null,
   "metadata": {},
   "outputs": [],
   "source": [
    "import requests\n",
    "from bs4 import BeautifulSoup\n",
    "import logging\n",
    "from datetime import datetime\n",
    "\n",
    "def scrape_cnbc_article(url):\n",
    "    try:\n",
    "        response = requests.get(url, timeout=10)\n",
    "        if response.status_code == 200:\n",
    "            soup = BeautifulSoup(response.content, 'html.parser')\n",
    "            \n",
    "            # Extract title\n",
    "            title_tag = soup.find('title')\n",
    "            title = title_tag.get_text(strip=True) if title_tag else 'No title available'\n",
    "\n",
    "            # Extract publish date\n",
    "            publish_date = None\n",
    "            date_tag = soup.find('div', class_='text-cm text-gray')  # Adjust this selector as needed\n",
    "            if date_tag:\n",
    "                date_text = date_tag.get_text(strip=True)\n",
    "                logging.debug(f\"Raw date text found: {date_text}\")\n",
    "                try:\n",
    "                    # Parse date with the correct format\n",
    "                    publish_date = datetime.strptime(date_text, \"%d %B %Y %H:%M\").strftime(\"%Y-%m-%d\")\n",
    "                    logging.debug(f\"Parsed publish date: {publish_date}\")\n",
    "                except ValueError as e:\n",
    "                    logging.error(f\"Failed to parse date: {date_text} -> {e}\")\n",
    "                    publish_date = None\n",
    "            else:\n",
    "                logging.warning(\"Date element not found. Setting publish_date to None.\")\n",
    "                publish_date = None\n",
    "\n",
    "            # Extract content\n",
    "            content = None\n",
    "            article_body = soup.find('div', class_='detail-text')  # Adjust this selector as needed\n",
    "            if article_body:\n",
    "                paragraphs = article_body.find_all('p')\n",
    "                content = ' '.join([p.get_text(strip=True) for p in paragraphs])\n",
    "            else:\n",
    "                content = \"No content available\"\n",
    "\n",
    "            # Final validation\n",
    "            if not title or not publish_date or not content:\n",
    "                logging.warning(f\"Invalid data extracted: title={title}, publish_date={publish_date}, content={content}\")\n",
    "                return None, None, None\n",
    "\n",
    "            # **Return values in the order expected by save_raw_to_db: (title, content, publish_date)**\n",
    "            return title, content, publish_date\n",
    "        else:\n",
    "            logging.error(f\"Failed to fetch URL {url} with status code {response.status_code}\")\n",
    "            return None, None, None\n",
    "    except requests.RequestException as e:\n",
    "        logging.error(f\"Request error while scraping {url}: {e}\")\n",
    "        return None, None, None\n"
   ]
  },
  {
   "cell_type": "code",
   "execution_count": 37,
   "metadata": {},
   "outputs": [
    {
     "name": "stdout",
     "output_type": "stream",
     "text": [
      "Title: Makin Ekspansif! MIND ID Anggarkan Investasi Sampai Rp 267 Triliun\n",
      "Publish Date: 2024-11-26\n",
      "Content: Jakarta, CNBC Indonesia -Holding BUMN Pertambangan MIND ID akan mengalokasikan anggaran investasi hingga Rp 267,8 triliun sampai 2029 mendatang. Direktur Portofolio dan Pengembangan Usaha MIND ID Dilo Seno Widagdo mengatakan, rencana investasi tersebut untuk meningkatkan nilai tambah bagi proyek-proyek hilirisasi perusahaan, termasuk guna mengejar pertumbuhan pendapatan hingga 5 tahun ke depan. Nilai investasi tersebut menurutnya belum termasuk anggaran investasi untuk PT Freeport Indonesia dan PT Vale Indonesia Tbk (INCO). \"Tanpa Freeport dan Vale sampai 2029 Rp 267 triliun ini investasi sudah kita rencanakan. Sudah bisa kita masukan di program-program ini harus mulai dari sekarang, bukan di 2041. Tapi sekarang kita harus investasi di Kucing Liar (tambang bawah tanah PT Freeport Indonesia),\" ucapnya dalam acara MIND ID Commodities Outlook 2025 di Jakarta, Selasa (26/11/2024). Dia menjabarkan, dari total anggaran investasi Rp 267,8 triliun itu terdiri dari alokasi investasi untuk 2025 sebesar Rp 33,4 triliun, 2026 Rp 53,8 triliun, lalu diperkirakan akan melonjak menjadi Rp 79 triliun pada 2027 dan Rp 71,3 triliun pada 2028, dan Rp 30,4 triliun pada 2029. Dari rencana total investasi Rp 267,8 triliun selama 2025-2029 tersebut, alokasi investasi terbesar untuk PT Aneka Tambang Tbk (ANTM) Rp 152,6 triliun, PT Bukit Asam Tbk (PTBA) Rp 55,2 triliun, lalu PT Inalum Rp 54,8 triliun, dan PT Timah Tbk (TINS) Rp 5,2 triliun. Dari perkiraan investasi tersebut, pihaknya berencana untuk meraup sumber pendanaan eksternal hingga Rp 98,8 triliun sampai 2029 mendatang. Pada 2025, pendanaan eksternal diperkirakan mencapai 25,7 triliun, lalu pada 2026 sebesar Rp 24 triliun, lalu naik lagi menjadi Rp 28,5 triliun pada 2027, Rp 19,1 triliun pada 2028, dan Rp 1,4 triliun pada 2029. \n"
     ]
    }
   ],
   "source": [
    "url = \"https://www.cnbcindonesia.com/news/20241126120138-4-591184/makin-ekspansif-mind-id-anggarkan-investasi-sampai-rp-267-triliun\"\n",
    "title, publish_date, content = scrape_cnbc_article(url)\n",
    "print(f\"Title: {title}\\nPublish Date: {publish_date}\\nContent: {content}\")\n"
   ]
  },
  {
   "cell_type": "code",
   "execution_count": 17,
   "metadata": {},
   "outputs": [
    {
     "ename": "NameError",
     "evalue": "name 'date_tag' is not defined",
     "output_type": "error",
     "traceback": [
      "\u001b[1;31m---------------------------------------------------------------------------\u001b[0m",
      "\u001b[1;31mNameError\u001b[0m                                 Traceback (most recent call last)",
      "Cell \u001b[1;32mIn[17], line 1\u001b[0m\n\u001b[1;32m----> 1\u001b[0m \u001b[38;5;28;01mif\u001b[39;00m \u001b[43mdate_tag\u001b[49m:\n\u001b[0;32m      2\u001b[0m     logging\u001b[38;5;241m.\u001b[39mdebug(\u001b[38;5;124mf\u001b[39m\u001b[38;5;124m\"\u001b[39m\u001b[38;5;124mDate tag found: \u001b[39m\u001b[38;5;132;01m{\u001b[39;00mdate_tag\u001b[38;5;132;01m}\u001b[39;00m\u001b[38;5;124m\"\u001b[39m)\n\u001b[0;32m      3\u001b[0m \u001b[38;5;28;01melse\u001b[39;00m:\n",
      "\u001b[1;31mNameError\u001b[0m: name 'date_tag' is not defined"
     ]
    }
   ],
   "source": [
    "if date_tag:\n",
    "    logging.debug(f\"Date tag found: {date_tag}\")\n",
    "else:\n",
    "    logging.warning(\"Date tag not found.\")\n"
   ]
  }
 ],
 "metadata": {
  "kernelspec": {
   "display_name": "Python 3",
   "language": "python",
   "name": "python3"
  },
  "language_info": {
   "codemirror_mode": {
    "name": "ipython",
    "version": 3
   },
   "file_extension": ".py",
   "mimetype": "text/x-python",
   "name": "python",
   "nbconvert_exporter": "python",
   "pygments_lexer": "ipython3",
   "version": "3.12.2"
  }
 },
 "nbformat": 4,
 "nbformat_minor": 2
}
